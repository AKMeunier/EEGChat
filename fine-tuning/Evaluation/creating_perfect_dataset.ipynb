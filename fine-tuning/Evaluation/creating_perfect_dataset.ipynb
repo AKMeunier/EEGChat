{
 "cells": [
  {
   "cell_type": "markdown",
   "metadata": {},
   "source": [
    "# Creating a datase out of only perfect rated answers\n",
    "This code can be used to achieve this, but this is not part of the thesis"
   ]
  },
  {
   "cell_type": "code",
   "execution_count": 1,
   "metadata": {
    "ExecuteTime": {
     "end_time": "2023-06-08T11:14:58.283478Z",
     "start_time": "2023-06-08T11:14:58.008209Z"
    }
   },
   "outputs": [],
   "source": [
    "import datetime\n",
    "import json\n",
    "import collections\n",
    "import pymongo"
   ]
  },
  {
   "cell_type": "code",
   "execution_count": 2,
   "metadata": {
    "ExecuteTime": {
     "end_time": "2023-06-08T11:14:58.287751Z",
     "start_time": "2023-06-08T11:14:58.284947Z"
    }
   },
   "outputs": [
    {
     "name": "stdout",
     "output_type": "stream",
     "text": [
      "Cluster Path found\n"
     ]
    }
   ],
   "source": [
    "file_path = '../keys.json'\n",
    "target_key = 'mongo_path'\n",
    "with open(file_path, 'r') as file:\n",
    "    data = json.load(file)\n",
    "cluster_path = data.get(target_key)\n",
    "if cluster_path is not None:\n",
    "    print(f\"Cluster Path found\")\n"
   ]
  },
  {
   "cell_type": "code",
   "execution_count": 3,
   "metadata": {
    "ExecuteTime": {
     "end_time": "2023-06-08T11:14:58.717409Z",
     "start_time": "2023-06-08T11:14:58.288878Z"
    }
   },
   "outputs": [],
   "source": [
    "\n",
    "# Establish a connection to the MongoDB cluster\n",
    "cluster = pymongo.MongoClient(cluster_path)\n",
    "\n",
    "# Connect to a specific database\n",
    "db = cluster[\"DialoKEY\"]\n",
    "\n",
    "# Read a document from a collection\n",
    "collection = db[\"logs_04\"]\n",
    "collection_cleaned = db[\"logs_cleaned_3\"]\n",
    "document = collection.find_one()"
   ]
  },
  {
   "cell_type": "code",
   "execution_count": 4,
   "metadata": {
    "ExecuteTime": {
     "end_time": "2023-06-08T11:15:00.231842Z",
     "start_time": "2023-06-08T11:14:58.729552Z"
    }
   },
   "outputs": [
    {
     "name": "stdout",
     "output_type": "stream",
     "text": [
      "{'0': 0, '1': 240, '2': 242, '3': 246, '4': 2}\n"
     ]
    }
   ],
   "source": [
    "feeds2 = []\n",
    "feeds = collections.defaultdict(list)\n",
    "dt = datetime.datetime.now()\n",
    "timestamp = dt.strftime('%Y_%m_%d_%H:%M:%S')[:-3]\n",
    "cursor4 = collection_cleaned.find()\n",
    "filename = f\"./output_files/{timestamp}_perfect_training.json\"\n",
    "history_counter = ({\n",
    "    \"0\": 0,\n",
    "    \"1\": 0,\n",
    "    \"2\": 0,\n",
    "    '3': 0,\n",
    "        '4': 0\n",
    "})\n",
    "for document in cursor4:\n",
    "\n",
    "    if 'Perfect' not in document['User Flag']:\n",
    "        continue\n",
    "    with open(filename, mode='w', encoding='utf-8') as feedsjson:\n",
    "        history = \"\"\n",
    "        for entries in document['Question'][:-1]:\n",
    "            history += entries + \"\\n\"\n",
    "        history_counter[str(int(len(document['Question']) / 2))] += 1\n",
    "        entry2 = {'prompt': f\"{history}\\nKeywords: {document['Keyword (human)']}\\nAnswer:\\n\\n###\\n\\n\",\n",
    "                  'completion': f\"{document['Answers']['Answer Created']} END\"}\n",
    "        feeds['all'].append(entry2)\n",
    "        json.dump(feeds['all'], feedsjson)\n",
    "\n",
    "print(history_counter)"
   ]
  },
  {
   "cell_type": "code",
   "execution_count": 4,
   "metadata": {
    "ExecuteTime": {
     "end_time": "2023-06-08T11:15:00.234929Z",
     "start_time": "2023-06-08T11:15:00.233243Z"
    }
   },
   "outputs": [],
   "source": []
  }
 ],
 "metadata": {
  "kernelspec": {
   "display_name": "Python 3 (ipykernel)",
   "language": "python",
   "name": "python3"
  },
  "language_info": {
   "codemirror_mode": {
    "name": "ipython",
    "version": 3
   },
   "file_extension": ".py",
   "mimetype": "text/x-python",
   "name": "python",
   "nbconvert_exporter": "python",
   "pygments_lexer": "ipython3",
   "version": "3.11.7"
  }
 },
 "nbformat": 4,
 "nbformat_minor": 1
}
