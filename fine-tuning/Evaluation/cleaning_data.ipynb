{
 "cells": [
  {
   "cell_type": "markdown",
   "source": [
    "# Imports"
   ],
   "metadata": {
    "collapsed": false
   }
  },
  {
   "cell_type": "code",
   "execution_count": 1,
   "metadata": {
    "collapsed": true,
    "ExecuteTime": {
     "start_time": "2023-06-08T10:50:51.852291Z",
     "end_time": "2023-06-08T10:50:52.153870Z"
    }
   },
   "outputs": [],
   "source": [
    "from bson.json_util import dumps\n",
    "import pymongo\n",
    "import json"
   ]
  },
  {
   "cell_type": "markdown",
   "source": [
    "# Reading the necessary Keys"
   ],
   "metadata": {
    "collapsed": false
   }
  },
  {
   "cell_type": "code",
   "execution_count": 2,
   "outputs": [
    {
     "name": "stdout",
     "output_type": "stream",
     "text": [
      "Cluster Path found\n"
     ]
    }
   ],
   "source": [
    "file_path = '../keys.json'\n",
    "target_key = 'mongo_path'\n",
    "with open(file_path, 'r') as file:\n",
    "    data = json.load(file)\n",
    "cluster_path = data.get(target_key)\n",
    "if cluster_path is not None:\n",
    "    print(f\"Cluster Path found\")\n"
   ],
   "metadata": {
    "collapsed": false,
    "ExecuteTime": {
     "start_time": "2023-06-08T10:50:52.155461Z",
     "end_time": "2023-06-08T10:50:52.159749Z"
    }
   }
  },
  {
   "cell_type": "markdown",
   "source": [],
   "metadata": {
    "collapsed": false
   }
  },
  {
   "cell_type": "markdown",
   "source": [
    "# MongoDB Initializations"
   ],
   "metadata": {
    "collapsed": false
   }
  },
  {
   "cell_type": "code",
   "execution_count": 3,
   "outputs": [],
   "source": [
    "# Establish a connection to the MongoDB cluster\n",
    "cluster = pymongo.MongoClient(cluster_path)\n",
    "\n",
    "# Connect to a specific database\n",
    "db = cluster[\"DialoKEY\"]\n",
    "\n",
    "# Read a document from a collection\n",
    "# From collection and collection_cleaned all data can be read and downloaded that were generated via normal mongodb operations\n",
    "collection = db[\"logs_04\"]  # contains ALL logs from the experiment\n",
    "collection_cleaned = db[\"logs_cleaned_3\"]  # contains only the cleaned logs\n",
    "document = collection.find_one()"
   ],
   "metadata": {
    "collapsed": false,
    "ExecuteTime": {
     "start_time": "2023-06-08T10:50:52.162841Z",
     "end_time": "2023-06-08T10:50:52.614203Z"
    }
   }
  },
  {
   "cell_type": "markdown",
   "source": [
    "# Read the data"
   ],
   "metadata": {
    "collapsed": false
   }
  },
  {
   "cell_type": "code",
   "execution_count": 4,
   "outputs": [
    {
     "name": "stdout",
     "output_type": "stream",
     "text": [
      "STATUS: 0.7575757575757576 %\n",
      "STATUS: 1.5151515151515151 %\n",
      "STATUS: 2.272727272727273 %\n",
      "STATUS: 3.0303030303030303 %\n",
      "STATUS: 3.787878787878788 %\n",
      "STATUS: 4.545454545454546 %\n",
      "STATUS: 5.303030303030303 %\n",
      "STATUS: 6.0606060606060606 %\n",
      "STATUS: 7.575757575757576 %\n",
      "STATUS: 8.333333333333332 %\n",
      "STATUS: 9.090909090909092 %\n",
      "STATUS: 9.848484848484848 %\n",
      "STATUS: 10.606060606060606 %\n",
      "STATUS: 11.363636363636363 %\n",
      "STATUS: 12.121212121212121 %\n",
      "STATUS: 12.878787878787879 %\n",
      "STATUS: 13.636363636363635 %\n",
      "STATUS: 14.393939393939394 %\n",
      "STATUS: 15.151515151515152 %\n",
      "STATUS: 15.909090909090908 %\n",
      "STATUS: 16.666666666666664 %\n",
      "STATUS: 17.424242424242426 %\n",
      "STATUS: 18.181818181818183 %\n",
      "STATUS: 18.939393939393938 %\n",
      "STATUS: 19.696969696969695 %\n",
      "STATUS: 20.454545454545457 %\n",
      "STATUS: 21.21212121212121 %\n",
      "STATUS: 21.96969696969697 %\n",
      "STATUS: 22.727272727272727 %\n",
      "STATUS: 23.484848484848484 %\n",
      "STATUS: 24.242424242424242 %\n",
      "STATUS: 25.0 %\n",
      "STATUS: 25.757575757575758 %\n",
      "STATUS: 26.515151515151516 %\n",
      "STATUS: 27.27272727272727 %\n",
      "STATUS: 28.030303030303028 %\n",
      "STATUS: 28.78787878787879 %\n",
      "STATUS: 29.545454545454547 %\n",
      "STATUS: 30.303030303030305 %\n",
      "STATUS: 31.060606060606062 %\n",
      "STATUS: 31.818181818181817 %\n",
      "STATUS: 32.57575757575758 %\n",
      "STATUS: 33.33333333333333 %\n",
      "STATUS: 34.090909090909086 %\n",
      "STATUS: 34.84848484848485 %\n",
      "STATUS: 35.60606060606061 %\n",
      "STATUS: 36.36363636363637 %\n",
      "STATUS: 37.121212121212125 %\n",
      "STATUS: 37.878787878787875 %\n",
      "STATUS: 38.63636363636363 %\n",
      "STATUS: 39.39393939393939 %\n",
      "STATUS: 40.15151515151515 %\n",
      "STATUS: 40.909090909090914 %\n",
      "STATUS: 41.66666666666667 %\n",
      "STATUS: 42.42424242424242 %\n",
      "STATUS: 43.18181818181818 %\n",
      "STATUS: 43.93939393939394 %\n",
      "STATUS: 44.696969696969695 %\n",
      "STATUS: 45.45454545454545 %\n",
      "STATUS: 46.21212121212121 %\n",
      "STATUS: 46.96969696969697 %\n",
      "STATUS: 47.72727272727273 %\n",
      "STATUS: 48.484848484848484 %\n",
      "STATUS: 49.24242424242424 %\n",
      "STATUS: 50.0 %\n",
      "STATUS: 51.515151515151516 %\n",
      "STATUS: 52.27272727272727 %\n",
      "STATUS: 53.03030303030303 %\n",
      "STATUS: 53.78787878787878 %\n",
      "STATUS: 54.54545454545454 %\n",
      "STATUS: 55.3030303030303 %\n",
      "STATUS: 56.060606060606055 %\n",
      "STATUS: 56.81818181818182 %\n",
      "STATUS: 57.57575757575758 %\n",
      "STATUS: 58.333333333333336 %\n",
      "STATUS: 59.84848484848485 %\n",
      "STATUS: 60.60606060606061 %\n",
      "STATUS: 61.36363636363637 %\n",
      "STATUS: 62.121212121212125 %\n",
      "STATUS: 62.878787878787875 %\n",
      "STATUS: 63.63636363636363 %\n",
      "STATUS: 64.39393939393939 %\n",
      "STATUS: 65.15151515151516 %\n",
      "STATUS: 65.9090909090909 %\n",
      "STATUS: 66.66666666666666 %\n",
      "STATUS: 67.42424242424242 %\n",
      "STATUS: 68.18181818181817 %\n",
      "STATUS: 68.93939393939394 %\n",
      "STATUS: 69.6969696969697 %\n",
      "STATUS: 70.45454545454545 %\n",
      "STATUS: 71.21212121212122 %\n",
      "STATUS: 71.96969696969697 %\n",
      "STATUS: 72.72727272727273 %\n",
      "STATUS: 73.48484848484848 %\n",
      "STATUS: 74.24242424242425 %\n",
      "STATUS: 75.0 %\n",
      "STATUS: 75.75757575757575 %\n",
      "STATUS: 76.51515151515152 %\n",
      "STATUS: 77.27272727272727 %\n",
      "STATUS: 78.03030303030303 %\n",
      "STATUS: 78.78787878787878 %\n",
      "STATUS: 79.54545454545455 %\n",
      "STATUS: 80.3030303030303 %\n",
      "STATUS: 81.06060606060606 %\n",
      "STATUS: 81.81818181818183 %\n",
      "STATUS: 82.57575757575758 %\n",
      "STATUS: 83.33333333333334 %\n",
      "STATUS: 84.0909090909091 %\n",
      "STATUS: 84.84848484848484 %\n",
      "STATUS: 85.60606060606061 %\n",
      "STATUS: 86.36363636363636 %\n",
      "STATUS: 87.12121212121212 %\n",
      "STATUS: 87.87878787878788 %\n",
      "STATUS: 88.63636363636364 %\n",
      "STATUS: 89.39393939393939 %\n",
      "STATUS: 90.15151515151516 %\n",
      "STATUS: 90.9090909090909 %\n",
      "STATUS: 91.66666666666666 %\n",
      "STATUS: 92.42424242424242 %\n",
      "STATUS: 93.18181818181817 %\n",
      "STATUS: 93.93939393939394 %\n",
      "STATUS: 94.6969696969697 %\n",
      "STATUS: 95.45454545454545 %\n",
      "STATUS: 96.21212121212122 %\n",
      "STATUS: 96.96969696969697 %\n",
      "STATUS: 97.72727272727273 %\n",
      "STATUS: 98.48484848484848 %\n",
      "STATUS: 99.24242424242425 %\n",
      "STATUS: 100.0 %\n"
     ]
    }
   ],
   "source": [
    "# Exclude some known uuids that did not to the experiment well\n",
    "excluded_uuids = [\"3cec1211d1414f32a8ab9b405f9e4296\", 'ca5e6287541d44ba9c9128016657d593',\n",
    "                  '2dc6b3ff2392476ea9c895f03fc312a7']\n",
    "\n",
    "# Search for all uuids with the correct code (that passed the attention check)\n",
    "all_documents = []\n",
    "uuid_list = []\n",
    "cursor = collection.find({\"$and\": [{\"final_code\": {\"$regex\": \"-PP\"}}]})\n",
    "\n",
    "for document in cursor:\n",
    "    uuid_list.append(document['uuid'][0])\n",
    "\n",
    "# Find all answers with the uuids that have the correct code\n",
    "for count, uuid in enumerate(uuid_list):\n",
    "    if uuid in excluded_uuids:\n",
    "        continue\n",
    "    print(f\"STATUS: {float(((count + 1) / len(uuid_list)) * 100)} %\")\n",
    "\n",
    "    # initialize another cursor and filter the results by the uuid\n",
    "    # HINT: Cursors are being consumed, so they can not be re-used\n",
    "    cursor2 = collection.find({\"$and\": [{\"uuid\": {\"$regex\": uuid}}]})\n",
    "    cursor3 = collection.find({\"$and\": [{\"uuid\": {\"$regex\": uuid}}]})\n",
    "    counter = 0\n",
    "\n",
    "    for document in cursor3:\n",
    "        # If \"Okay\" is pressed more than 5 times -> Skip this participant's answer -> Possible fraud\n",
    "        if \"User Flag\" in document:\n",
    "            if 'Okay' in document[\"User Flag\"]:\n",
    "                counter += 1\n",
    "    if counter > 5:\n",
    "        excluded_uuids.append(uuid)\n",
    "\n",
    "    for document in cursor2:\n",
    "        # If the current document is the attention check itself or the message of the final code -> Skip the document\n",
    "        if 'Attention Check' in document:\n",
    "            if document['Attention Check']:\n",
    "                continue\n",
    "        if 'final_code' in document:\n",
    "            continue\n",
    "\n",
    "        # Upsert the cleaned documents into a new database where only the cleaned files are located\n",
    "        collection_cleaned.update_many({'_id': document['_id']}, {\"$set\": document}, True)\n",
    "        all_documents.append(document)\n",
    "\n",
    "# Write the results in a json file\n",
    "with open('./output_files/collection.json', 'w') as file:\n",
    "    file.write('[')\n",
    "    for document in all_documents:\n",
    "        file.write(dumps(document))\n",
    "        file.write(',')\n",
    "    file.write(']')\n",
    "\n",
    "\n"
   ],
   "metadata": {
    "collapsed": false,
    "ExecuteTime": {
     "start_time": "2023-06-08T10:50:52.614721Z",
     "end_time": "2023-06-08T10:52:34.597191Z"
    }
   }
  },
  {
   "cell_type": "markdown",
   "source": [
    "# Printing overall stats"
   ],
   "metadata": {
    "collapsed": false
   }
  },
  {
   "cell_type": "code",
   "execution_count": 5,
   "outputs": [
    {
     "name": "stdout",
     "output_type": "stream",
     "text": [
      "Participants overall: 185\n",
      "Participants from mturk: 61\n",
      "Individual Documents: 3123\n",
      "False codes from mturk: 3\n",
      "False codes from other users: 3\n",
      "Not finished experiments: 47\n",
      "Participants that only clicked okay: 3\n",
      "Participant's (cleaned db): 132\n",
      "Individual documents (cleaned db): 2455\n"
     ]
    }
   ],
   "source": [
    "all_documents_including_false = []\n",
    "all_uuids_including_false = []\n",
    "all_workerids_including_false = []\n",
    "all_uuids_including_wrong_code = []\n",
    "\n",
    "cursor4 = collection.find()\n",
    "cursor5 = collection.find({\"final_code\": {\"$not\": {\"$regex\": \"-PP\"}}})\n",
    "\n",
    "for document in cursor4:\n",
    "    if \"Process\" in document:\n",
    "        continue\n",
    "    all_uuids_including_false.append(document['uuid'][0])\n",
    "    all_documents_including_false.append(document)\n",
    "    if not \"worker_id\" in document:\n",
    "        continue\n",
    "    if len(document['worker_id']) == 0 or not \"worker_id\" in document:\n",
    "        continue\n",
    "    all_workerids_including_false.append(document['worker_id'][0])\n",
    "\n",
    "unique_worker_ids = set(all_workerids_including_false)\n",
    "only_mturk = []\n",
    "\n",
    "# iterate through the set\n",
    "for string in unique_worker_ids:\n",
    "    # check if the string is 14 characters long and contains numbers (-> Mturk Participant)\n",
    "    if len(string) == 14 and any(char.isdigit() for char in string):\n",
    "        # append to the final list\n",
    "        only_mturk.append(string)\n",
    "\n",
    "unique_uuids = set(all_uuids_including_false)\n",
    "for document in cursor5:\n",
    "    if not \"final_code\" in document:\n",
    "        continue\n",
    "    all_uuids_including_wrong_code.append(document['uuid'][0])\n",
    "unique_uuids_wrong_code = set(all_uuids_including_wrong_code)\n",
    "all_workerids_only_false = []\n",
    "\n",
    "for count, uuid in enumerate(unique_uuids_wrong_code):\n",
    "    cursor2 = collection.find({\"$and\": [{\"uuid\": {\"$regex\": uuid}}]})\n",
    "    for document in cursor2:\n",
    "        if not \"worker_id\" in document:\n",
    "            continue\n",
    "        if len(document['worker_id']) == 0 or not \"worker_id\" in document:\n",
    "            continue\n",
    "        all_workerids_only_false.append(document['worker_id'][0])\n",
    "\n",
    "unique_false_worker_ids = set(all_workerids_only_false)\n",
    "only_false_mturk = []\n",
    "\n",
    "for string in unique_false_worker_ids:\n",
    "    if len(string) == 14 and any(char.isdigit() for char in string):\n",
    "        only_false_mturk.append(string)\n",
    "\n",
    "# Write the results in a json file\n",
    "with open('./output_files/collection_including_false.json', 'w') as file:\n",
    "    file.write('[')\n",
    "    for document in all_documents_including_false:\n",
    "        file.write(dumps(document))\n",
    "        file.write(',')\n",
    "    file.write(']')\n",
    "\n",
    "print(f\"Participants overall: {len(unique_uuids)}\")\n",
    "print(f\"Participants from mturk: {len(only_mturk)}\")\n",
    "print(f\"Individual Documents: {len(all_documents_including_false)}\")\n",
    "print(f\"False codes from mturk: {len(only_false_mturk)}\")\n",
    "print(f\"False codes from other users: {len(unique_uuids_wrong_code) - len(only_false_mturk)}\")\n",
    "print(f\"Not finished experiments: {len(unique_uuids) - len(uuid_list) - len(unique_uuids_wrong_code)}\")\n",
    "print(f\"Participants that only clicked okay: {len(excluded_uuids)}\")\n",
    "print(f\"Participant's (cleaned db): {len(uuid_list)}\")\n",
    "print(f\"Individual documents (cleaned db): {len(all_documents)}\")\n",
    "\n"
   ],
   "metadata": {
    "collapsed": false,
    "ExecuteTime": {
     "start_time": "2023-06-08T10:52:34.602853Z",
     "end_time": "2023-06-08T10:52:38.328013Z"
    }
   }
  }
 ],
 "metadata": {
  "kernelspec": {
   "display_name": "Python 3",
   "language": "python",
   "name": "python3"
  },
  "language_info": {
   "codemirror_mode": {
    "name": "ipython",
    "version": 2
   },
   "file_extension": ".py",
   "mimetype": "text/x-python",
   "name": "python",
   "nbconvert_exporter": "python",
   "pygments_lexer": "ipython2",
   "version": "2.7.6"
  }
 },
 "nbformat": 4,
 "nbformat_minor": 0
}
