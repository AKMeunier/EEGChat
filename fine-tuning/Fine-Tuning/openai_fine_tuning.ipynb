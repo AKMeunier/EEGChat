{
 "cells": [
  {
   "cell_type": "code",
   "execution_count": null,
   "outputs": [],
   "source": [
    "import openai"
   ],
   "metadata": {
    "collapsed": false,
    "ExecuteTime": {
     "start_time": "2023-06-06T19:42:02.119494Z",
     "end_time": "2023-06-06T19:42:02.795092Z"
    }
   }
  },
  {
   "cell_type": "code",
   "execution_count": null,
   "metadata": {
    "collapsed": true
   },
   "outputs": [],
   "source": [
    "# Exporting the API KEY\n",
    "!export OPENAI_API_KEY='XXX'"
   ]
  },
  {
   "cell_type": "code",
   "execution_count": null,
   "outputs": [],
   "source": [
    "# Data Preparation\n",
    "!openai tools fine_tunes.prepare_data -f <NAME OF THE TRAINING FILE>"
   ],
   "metadata": {
    "collapsed": false
   }
  },
  {
   "cell_type": "code",
   "execution_count": null,
   "outputs": [],
   "source": [
    "# Fine tune job\n",
    "# Replace validation and training file with desired files\n",
    "!openai api fine_tunes.create \\\n",
    "  -t training_prepared.jsonl \\\n",
    "  -v validation.jsonl \\\n",
    "  -m davinci \\\n",
    "  --suffix \"<Use a custom name>\" \\\n",
    "  --n_epochs 1 \\\n",
    "  --learning_rate_multiplier 0.05 \\\n",
    "  --batch_size 2"
   ],
   "metadata": {
    "collapsed": false
   }
  },
  {
   "cell_type": "code",
   "execution_count": null,
   "outputs": [],
   "source": [
    "# See results\n",
    "!openai api fine_tunes.results -i <NAME OF THE FINE TUNE>"
   ],
   "metadata": {
    "collapsed": false
   }
  }
 ],
 "metadata": {
  "kernelspec": {
   "display_name": "Python 3",
   "language": "python",
   "name": "python3"
  },
  "language_info": {
   "codemirror_mode": {
    "name": "ipython",
    "version": 2
   },
   "file_extension": ".py",
   "mimetype": "text/x-python",
   "name": "python",
   "nbconvert_exporter": "python",
   "pygments_lexer": "ipython2",
   "version": "2.7.6"
  }
 },
 "nbformat": 4,
 "nbformat_minor": 0
}
