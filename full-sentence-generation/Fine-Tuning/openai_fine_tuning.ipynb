{
 "cells": [
  {
   "cell_type": "code",
   "execution_count": null,
   "metadata": {
    "ExecuteTime": {
     "end_time": "2023-06-06T19:42:02.795092Z",
     "start_time": "2023-06-06T19:42:02.119494Z"
    }
   },
   "outputs": [],
   "source": [
    "import openai"
   ]
  },
  {
   "cell_type": "code",
   "execution_count": null,
   "metadata": {
    "collapsed": true
   },
   "outputs": [],
   "source": [
    "# Exporting the API KEY\n",
    "!export OPENAI_API_KEY='XXX'"
   ]
  },
  {
   "cell_type": "code",
   "execution_count": null,
   "metadata": {},
   "outputs": [],
   "source": [
    "# Data Preparation\n",
    "!openai tools fine_tunes.prepare_data -f <NAME OF THE TRAINING FILE>"
   ]
  },
  {
   "cell_type": "code",
   "execution_count": null,
   "metadata": {},
   "outputs": [],
   "source": [
    "# Fine tune job\n",
    "# Replace validation and training file with desired files\n",
    "!openai api fine_tunes.create \\\n",
    "  -t training_prepared.jsonl \\\n",
    "  -v validation.jsonl \\\n",
    "  -m davinci \\\n",
    "  --suffix \"<Use a custom name>\" \\\n",
    "  --n_epochs 1 \\\n",
    "  --learning_rate_multiplier 0.05 \\\n",
    "  --batch_size 2"
   ]
  },
  {
   "cell_type": "code",
   "execution_count": null,
   "metadata": {},
   "outputs": [],
   "source": [
    "# See results\n",
    "!openai api fine_tunes.results -i <NAME OF THE FINE TUNE>"
   ]
  }
 ],
 "metadata": {
  "kernelspec": {
   "display_name": "Python 3 (ipykernel)",
   "language": "python",
   "name": "python3"
  },
  "language_info": {
   "codemirror_mode": {
    "name": "ipython",
    "version": 3
   },
   "file_extension": ".py",
   "mimetype": "text/x-python",
   "name": "python",
   "nbconvert_exporter": "python",
   "pygments_lexer": "ipython3",
   "version": "3.11.7"
  }
 },
 "nbformat": 4,
 "nbformat_minor": 1
}
